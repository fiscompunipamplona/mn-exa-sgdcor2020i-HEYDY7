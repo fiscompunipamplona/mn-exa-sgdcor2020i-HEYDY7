{
 "cells": [
  {
   "cell_type": "markdown",
   "metadata": {},
   "source": [
    "## PARCIAL#2"
   ]
  },
  {
   "cell_type": "markdown",
   "metadata": {},
   "source": [
    "- 1).EL LÍMITE DE DIFRACCIÓN DE UN TELESCOPIO\n",
    "\n",
    "Nuestra capacidad para resolver detalles en observaciones astronómicas está limitada por la difracción de la luz en nuestros telescopios. La luz de las estrellas se puede tratar de manera efectiva como proveniente de una fuente puntual en el infinito. Cuando dicha luz, con longitud de onda $\\lambda $, atraviesa la abertura circular de un telescopio (que asumiremos que tiene un radio unitario) y es enfocada por el telescopio en el plano focal, produce no solo un punto, sino una serie de anillos concéntricos. La intensidad de la luz en este patrón de difracción viene dada por:\n",
    "\\begin{equation}\n",
    "I(r)=\\left (\\frac{J_{1}\\left ( kr \\right )}{kr}  \\right )^{2}\n",
    "\\end{equation}\n",
    "\\\n",
    "donde $r$ es la distancia en el plano focal desde el centro del patrón de diferencia, $k=2\\pi/\\lambda$ y $J_{1}(x)$ es una función de bessel. Las funciones de bessel  $J_{m}(x)$ están dadas por:\n",
    "\\begin{equation}\n",
    "J_{m}\\left ( x \\right )=\\frac{1}{\\pi }\\int_{0}^{\\pi }cos\\left ( m\\theta -xsin\\theta  \\right )d\\theta \n",
    "\\end{equation}\n",
    "\\\n",
    "donde $ m $ es un entero no negativo y $x\\geq 0$\n",
    "- a.)Escriba una función de Python $ J (m, x) $ que calcule el valor de $J_{m}(x)$ usando la regla de simpson con $N=1000$ puntos. Use su función en un programa para hacer un diagrama, en una sola gráfica, de Bessel funciona $J_{0}$, $J_{1}$ y $J_{2}$ en función de $x$ de $x = 0$ a $x = 20$.\n",
    "- b.) Haga un segundo programa que haga un diagrama de densidad de la intensidad del patrón de difracción circular de una fuente de luz puntual con $\\lambda=500nm$, en una región cuadrada del plano focal, utilizando la fórmula dada anteriormente. Su imagen debe cubrir los valores de $r$ desde cero hasta aproximadamente $1\\mu m$.\n",
    "\n",
    "* **Sugerencia 1**: Puede resultarle útil saber que  $\\lim_{x \\mapsto 0 }J_{1}\\left ( x\\right )/x=\\frac{1}{2}$.\n",
    "* **Sugerencia 2**: El punto central en el patrón de difracción es tan brillante que puede ser difícil ver los anillos a su alrededor en la pantalla de la computadora. Si se encuentra con este problema, una forma sencilla de resolverlo es utilizar uno de los otros esquemas de color para los gráficos de densidad descritos en la sección 3.3. El esquema \"activo\" funciona bien. Para una solución más sofisticada al problema, el $inshow$ La función tiene un argumento adicional $Vmax$ que le permite establecer el valor que corresponde al punto más brillante de la gráfica. por ejemplo, si dices $\"inshow(x,Vmax=0.1)\"$, entonceslos elementos en $x$ con un valor $0.1$, o cualquier valor mayor, producirán el color más brillante (más positivo) en la pantalla. Al reducir el valor $Vmax$, puede reducir el rango total de valores entre el brillo mínimo y máximo, y por lo tanto aumentar el sensibilidad de la trama, haciendo visibles detalles sutiles. (También hay un argumento $Vmin$ que puede usarse para depositar el valor que corresponde al color más oscuro (más negativo).) Para este ejercicio, un valor de $Vmax = 0.01$ parece funcionar bien ."
   ]
  },
  {
   "cell_type": "code",
   "execution_count": 61,
   "metadata": {},
   "outputs": [
    {
     "name": "stdout",
     "output_type": "stream",
     "text": [
      "0 1.0 3.597122599785507e-17 5.166237807922395e-17\n",
      "1 0.7651976865579667 0.44005058574493305 0.11490348493190024\n",
      "2 0.22389077914123573 0.5767248077568741 0.35283402861563795\n",
      "3 -0.2600519549019338 0.3390589585259367 0.4860912605858908\n",
      "4 -0.39714980986384707 -0.06604332802354927 0.3641281458520718\n",
      "5 -0.1775967713143381 -0.32757913759146534 0.046565116277752505\n",
      "6 0.15064525725099684 -0.2766838581275658 -0.24287320996018577\n",
      "7 0.3000792705195554 -0.004682823482345872 -0.30141722008593974\n",
      "8 0.17165080713755368 0.23463634685391468 -0.1129917204240753\n",
      "9 -0.09033361118287589 0.2453117865733257 0.1448473415325039\n",
      "10 -0.2459357644513479 0.04347274616886139 0.25463031368512073\n",
      "11 -0.17119030040719607 -0.17678529895672143 0.13904751877870147\n",
      "12 0.04768931079683338 -0.22344710449062802 -0.08493049487860464\n",
      "13 0.2069261023770678 -0.0703180521217784 -0.21774426424195703\n",
      "14 0.1710734761104587 0.1333751546987932 -0.15201988258205953\n",
      "15 -0.014224472826780915 0.20510403861352272 0.04157167797525051\n",
      "16 -0.174899073983629 0.0903971756613041 0.18619872094129192\n",
      "17 -0.16985425215118313 -0.0976684927577807 0.15836384123850394\n",
      "18 -0.013355805721984146 -0.18799488548806984 -0.007532514887801355\n",
      "19 0.14662943965965117 -0.1057014311424092 -0.1577559060956942\n",
      "20 0.16702466434058308 0.06683312417584997 -0.16034135192299825\n"
     ]
    }
   ],
   "source": [
    "#a.)\n",
    "from pylab import scatter,xlabel,ylabel,xlim,ylim,show\n",
    "from numpy import loadtxt\n",
    "from pylab import imshow, gray, show\n",
    "from numpy import loadtxt\n",
    "from numpy import loadtxt, shape\n",
    "from matplotlib.pyplot import plot as plt\n",
    "from scipy.special import jn\n",
    "from math import sin, cos, pi\n",
    "\n",
    "#  La función central de la integral de Bessel\n",
    "def f(m, x, t):\n",
    "    return cos(m * t - x * sin(t))\n",
    "\n",
    "#El número de pasos utilizados en la aproximación integral de Simpson.\n",
    "N = 1000\n",
    "\n",
    "def J(m, x):\n",
    "    ''' Función aproximada de Bessel Jm (x) para el entero m '''\n",
    "\n",
    "    # límites inferior y superior de la integral\n",
    "    a = 0.0\n",
    "    b = pi\n",
    "\n",
    "    # valor de h\n",
    "    h = (b - a) / N\n",
    "\n",
    "    # Suma los valores para la integración de Simpson\n",
    "    s = f(m, x, a) + f(m, x, b)\n",
    "    for i in range(1, N):\n",
    "        t = a + i * h\n",
    "        if i % 2 == 1:\n",
    "            s += 4.0 * f(m, x, t)\n",
    "        else:\n",
    "            s += 2.0 * f(m, x, t)\n",
    "\n",
    "    # multiplica por h / 3 para obtener la integral y dividir por pi para obtener la función Bessel.\n",
    "    return s * h / (3.0 * pi) \n",
    "\n",
    "for x in range(21):\n",
    "    print(x, J(0, x), J(1, x), J(2, x))\n",
    "   \n",
    "\n"
   ]
  },
  {
   "cell_type": "code",
   "execution_count": 62,
   "metadata": {},
   "outputs": [],
   "source": [
    "import numpy as np\n",
    "\n"
   ]
  },
  {
   "cell_type": "code",
   "execution_count": 63,
   "metadata": {},
   "outputs": [
    {
     "data": {
      "image/png": "[encoded data removed]",
      "text/plain": [
       "<Figure size 432x288 with 1 Axes>"
      ]
     },
     "metadata": {
      "needs_background": "light"
     },
     "output_type": "display_data"
    }
   ],
   "source": [
    "import numpy as np\n",
    "import pylab as plt\n",
    "import math as mathy\n",
    "\n",
    "#N = number of slicices\n",
    "#h = b-a/N\n",
    "\n",
    "def J(m,x): #Bessel Integral\n",
    "    def f(theta):\n",
    "        return (1/mathy.pi)*mathy.cos(m*theta - x*mathy.sin(theta)) #Reemplacé np. con mathy para esta línea\n",
    "\n",
    "    N = 1000\n",
    "    A = 0\n",
    "    a=0\n",
    "    b=mathy.pi\n",
    "    h = ((b-a)/N)\n",
    "\n",
    "    for k in range(1,N,2):\n",
    "\n",
    "        A +=  4*(f(a + h*k))\n",
    "\n",
    "    for k in range(2,N,2):\n",
    "\n",
    "        A +=  2*(f(a + h*k))\n",
    "        \n",
    "        Idx =  (h/3)*(A + f(a)+f(b))\n",
    "        \n",
    "        return Idx\n",
    "\n",
    "def I(lmda,r): #Intensity\n",
    "    k = (mathy.pi/lmda)\n",
    "    return ((J(1,k*r))/(k*r))**2\n",
    "\n",
    "    wavelength = .5        # microm meters\n",
    "    I0 = 1\n",
    "    points = 500\n",
    "    sepration = 0.2\n",
    "\n",
    "    Intensity = np.empty([points,points],np.float)\n",
    "\n",
    "    for i in range(points):\n",
    "        y = sepration*i\n",
    "    for j in range(points):\n",
    "        x = sepration*j\n",
    "        r = np.sqrt((x)**2+(y)**2)\n",
    "\n",
    "    if r < 0.000000000001:\n",
    "        Intensity[i,j]= 0.5 #Este es el lim como r -> 0, I -> 0.5\n",
    "    else:\n",
    "        Intensity[i,j] = I0*I(wavelength,r)\n",
    "\n",
    "plt.imshow(Intensity,vmax=0.01,cmap=\"hot\")\n",
    "plt.gray()\n",
    "plt.show()"
   ]
  },
  {
   "cell_type": "code",
   "execution_count": null,
   "metadata": {},
   "outputs": [],
   "source": []
  },
  {
   "cell_type": "markdown",
   "metadata": {},
   "source": [
    "2."
   ]
  }
 ],
 "metadata": {
  "kernelspec": {
   "display_name": "Python 3",
   "language": "python",
   "name": "python3"
  },
  "language_info": {
   "codemirror_mode": {
    "name": "ipython",
    "version": 3
   },
   "file_extension": ".py",
   "mimetype": "text/x-python",
   "name": "python",
   "nbconvert_exporter": "python",
   "pygments_lexer": "ipython3",
   "version": "3.7.6"
  }
 },
 "nbformat": 4,
 "nbformat_minor": 4
}
